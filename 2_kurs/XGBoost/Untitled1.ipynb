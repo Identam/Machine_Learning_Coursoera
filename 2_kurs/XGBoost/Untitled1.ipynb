{
  "nbformat": 4,
  "nbformat_minor": 0,
  "metadata": {
    "colab": {
      "name": "Untitled1.ipynb",
      "provenance": []
    },
    "kernelspec": {
      "name": "python3",
      "display_name": "Python 3"
    }
  },
  "cells": [
    {
      "cell_type": "code",
      "metadata": {
        "id": "9RpEl6v3UV_2",
        "colab_type": "code",
        "colab": {}
      },
      "source": [
        "from sklearn.datasets import load_boston\n",
        "from sklearn.tree import DecisionTreeRegressor\n",
        "from sklearn.metrics import mean_squared_error\n",
        "import numpy as np"
      ],
      "execution_count": 0,
      "outputs": []
    },
    {
      "cell_type": "code",
      "metadata": {
        "id": "8wDYkiOAUoqC",
        "colab_type": "code",
        "colab": {}
      },
      "source": [
        "boston = load_boston()\n",
        "\n",
        "p = 0.75\n",
        "\n",
        "idx = int(p * boston.data.shape[0]) + 1\n",
        "\n",
        "X_train, X_test = np.split(boston.data, [idx])\n",
        "y_train, y_test = np.split(boston.target, [idx])"
      ],
      "execution_count": 0,
      "outputs": []
    },
    {
      "cell_type": "code",
      "metadata": {
        "id": "GRJNOFnXVqub",
        "colab_type": "code",
        "colab": {}
      },
      "source": [
        "def L_grad(y_train, z):\n",
        "  return (y_train - z)"
      ],
      "execution_count": 0,
      "outputs": []
    },
    {
      "cell_type": "code",
      "metadata": {
        "id": "eOq_yucvVtpn",
        "colab_type": "code",
        "colab": {}
      },
      "source": [
        "def gbm_predict(X):\n",
        "    return [sum([coeff * algo.predict([x])[0] for algo, coeff in zip(base_algorithms_list, coefficients_list)]) for x in X]"
      ],
      "execution_count": 0,
      "outputs": []
    },
    {
      "cell_type": "code",
      "metadata": {
        "id": "Sz6mKb99XQjC",
        "colab_type": "code",
        "colab": {
          "base_uri": "https://localhost:8080/",
          "height": 34
        },
        "outputId": "1da2d25b-1c0f-46ea-8e5c-f20748893c62"
      },
      "source": [
        "base_algorithms_list = []\n",
        "coefficients_list = []\n",
        "\n",
        "z = np.zeros( (y_train.shape) )\n",
        "\n",
        "for _ in range(50):\n",
        "    coefficients_list.append(0.9)\n",
        "    dt_regressor = DecisionTreeRegressor(max_depth=5, random_state=42)\n",
        "    dt_regressor.fit(X_train, L_grad(y_train, z))\n",
        "    base_algorithms_list.append(dt_regressor)\n",
        "    z = gbm_predict(X_train)\n",
        "    \n",
        "alg_predict = gbm_predict(X_test)\n",
        "alg_rmse = np.sqrt(mean_squared_error(y_test, alg_predict))\n",
        "print(alg_rmse)"
      ],
      "execution_count": 14,
      "outputs": [
        {
          "output_type": "stream",
          "text": [
            "5.4551393760319415\n"
          ],
          "name": "stdout"
        }
      ]
    },
    {
      "cell_type": "code",
      "metadata": {
        "id": "iow0y5daXlIG",
        "colab_type": "code",
        "colab": {}
      },
      "source": [
        "with open('answer2.txt', 'w') as fout:\n",
        "    fout.write(str(alg_rmse))"
      ],
      "execution_count": 0,
      "outputs": []
    },
    {
      "cell_type": "code",
      "metadata": {
        "id": "noU5hO86YKPA",
        "colab_type": "code",
        "colab": {
          "base_uri": "https://localhost:8080/",
          "height": 34
        },
        "outputId": "261b9e50-d06c-4e43-c9b3-3cd053c8bedd"
      },
      "source": [
        "base_algorithms_list = []\n",
        "coefficients_list = []\n",
        "\n",
        "z = np.zeros( (y_train.shape) )\n",
        "\n",
        "for i in range(50):\n",
        "    coeff = 0.9 / (1. + i)\n",
        "    coefficients_list.append(coeff)\n",
        "    dt_regressor = DecisionTreeRegressor(max_depth=5, random_state=42)\n",
        "    dt_regressor.fit(X_train, L_grad(y_train, z))\n",
        "    base_algorithms_list.append(dt_regressor)\n",
        "    z = gbm_predict(X_train)\n",
        "    \n",
        "alg_predict = gbm_predict(X_test)\n",
        "alg_rmse = np.sqrt(mean_squared_error(y_test, alg_predict))\n",
        "print(alg_rmse)"
      ],
      "execution_count": 17,
      "outputs": [
        {
          "output_type": "stream",
          "text": [
            "5.241033584774468\n"
          ],
          "name": "stdout"
        }
      ]
    },
    {
      "cell_type": "code",
      "metadata": {
        "id": "ckYYyYjqYU3o",
        "colab_type": "code",
        "colab": {}
      },
      "source": [
        "with open('answer3.txt', 'w') as fout:\n",
        "    fout.write(str(alg_rmse))"
      ],
      "execution_count": 0,
      "outputs": []
    },
    {
      "cell_type": "code",
      "metadata": {
        "id": "hKgNcK-lYgH8",
        "colab_type": "code",
        "colab": {}
      },
      "source": [
        "answer = str(2) + ' ' + str(3)\n",
        "with open('answer4.txt', 'w') as fout:\n",
        "    fout.write(answer)"
      ],
      "execution_count": 0,
      "outputs": []
    },
    {
      "cell_type": "code",
      "metadata": {
        "id": "autf6xBRYzXp",
        "colab_type": "code",
        "colab": {
          "base_uri": "https://localhost:8080/",
          "height": 34
        },
        "outputId": "4099206b-9ed5-44ff-e3e9-e146b3bfb164"
      },
      "source": [
        "from sklearn.linear_model import LinearRegression\n",
        "lr_regressor = LinearRegression()\n",
        "lr_regressor.fit(X_train, y_train)\n",
        "    \n",
        "alg_predict = lr_regressor.predict(X_test)\n",
        "alg_rmse = np.sqrt(mean_squared_error(y_test, alg_predict))\n",
        "print(alg_rmse)"
      ],
      "execution_count": 20,
      "outputs": [
        {
          "output_type": "stream",
          "text": [
            "7.819688142087423\n"
          ],
          "name": "stdout"
        }
      ]
    },
    {
      "cell_type": "code",
      "metadata": {
        "id": "EeuaARxVY9-0",
        "colab_type": "code",
        "colab": {}
      },
      "source": [
        "with open('answer5.txt', 'w') as fout:\n",
        "    fout.write(str(alg_rmse))"
      ],
      "execution_count": 0,
      "outputs": []
    },
    {
      "cell_type": "code",
      "metadata": {
        "id": "180uKlEXZCRX",
        "colab_type": "code",
        "colab": {}
      },
      "source": [
        ""
      ],
      "execution_count": 0,
      "outputs": []
    },
    {
      "cell_type": "code",
      "metadata": {
        "id": "LPQeSGhxZZTJ",
        "colab_type": "code",
        "colab": {}
      },
      "source": [
        "from google.colab import drive\n",
        "drive.mount('/content/drive')"
      ],
      "execution_count": 0,
      "outputs": []
    }
  ]
}